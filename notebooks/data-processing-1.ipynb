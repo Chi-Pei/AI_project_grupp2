{
 "cells": [
  {
   "cell_type": "code",
   "execution_count": null,
   "id": "backed-opening",
   "metadata": {},
   "outputs": [],
   "source": [
    "import numpy as np\n",
    "import pandas as pd\n",
    "import matplotlib.pyplot as plt"
   ]
  },
  {
   "cell_type": "code",
   "execution_count": null,
   "id": "beautiful-cologne",
   "metadata": {},
   "outputs": [],
   "source": [
    "dataset = pd.read_excel('melbourne_pp1.xls')"
   ]
  },
  {
   "cell_type": "code",
   "execution_count": null,
   "id": "statutory-secretariat",
   "metadata": {},
   "outputs": [],
   "source": [
    "dataset"
   ]
  },
  {
   "cell_type": "code",
   "execution_count": 5,
   "id": "optical-wallace",
   "metadata": {},
   "outputs": [
    {
     "data": {
      "text/plain": [
       "(34857, 18)"
      ]
     },
     "execution_count": 5,
     "metadata": {},
     "output_type": "execute_result"
    }
   ],
   "source": [
    "dataset.shape"
   ]
  },
  {
   "cell_type": "code",
   "execution_count": 6,
   "id": "quantitative-flashing",
   "metadata": {},
   "outputs": [
    {
     "data": {
      "text/plain": [
       "<bound method DataFrame.info of            Suburb             Address  Rooms Type      Price        Date  \\\n",
       "0      Abbotsford       68 Studley St      2    h        NaN   3/09/2016   \n",
       "1      Abbotsford        85 Turner St      2    h  1480000.0   3/12/2016   \n",
       "2      Abbotsford     25 Bloomburg St      2    h  1035000.0   4/02/2016   \n",
       "3      Abbotsford  18/659 Victoria St      3    u        NaN   4/02/2016   \n",
       "4      Abbotsford        5 Charles St      3    h  1465000.0   4/03/2017   \n",
       "...           ...                 ...    ...  ...        ...         ...   \n",
       "34852  Yarraville         13 Burns St      4    h  1480000.0  24/02/2018   \n",
       "34853  Yarraville       29A Murray St      2    h   888000.0  24/02/2018   \n",
       "34854  Yarraville      147A Severn St      2    t   705000.0  24/02/2018   \n",
       "34855  Yarraville    12/37 Stephen St      3    h  1140000.0  24/02/2018   \n",
       "34856  Yarraville    3 Tarrengower St      2    h  1020000.0  24/02/2018   \n",
       "\n",
       "       Distance  Bedroom2  Bathroom  Car  Landsize  BuildingArea  YearBuilt  \\\n",
       "0           2.5       2.0       1.0  1.0     126.0           NaN        NaN   \n",
       "1           2.5       2.0       1.0  1.0     202.0           NaN        NaN   \n",
       "2           2.5       2.0       1.0  0.0     156.0          79.0     1900.0   \n",
       "3           2.5       3.0       2.0  1.0       0.0           NaN        NaN   \n",
       "4           2.5       3.0       2.0  0.0     134.0         150.0     1900.0   \n",
       "...         ...       ...       ...  ...       ...           ...        ...   \n",
       "34852       6.3       4.0       1.0  3.0     593.0           NaN        NaN   \n",
       "34853       6.3       2.0       2.0  1.0      98.0         104.0     2018.0   \n",
       "34854       6.3       2.0       1.0  2.0     220.0         120.0     2000.0   \n",
       "34855       6.3       NaN       NaN  NaN       NaN           NaN        NaN   \n",
       "34856       6.3       2.0       1.0  0.0     250.0         103.0     1930.0   \n",
       "\n",
       "                    CouncilArea  Lattitude  Longtitude             Regionname  \\\n",
       "0            Yarra City Council  -37.80140   144.99580  Northern Metropolitan   \n",
       "1            Yarra City Council  -37.79960   144.99840  Northern Metropolitan   \n",
       "2            Yarra City Council  -37.80790   144.99340  Northern Metropolitan   \n",
       "3            Yarra City Council  -37.81140   145.01160  Northern Metropolitan   \n",
       "4            Yarra City Council  -37.80930   144.99440  Northern Metropolitan   \n",
       "...                         ...        ...         ...                    ...   \n",
       "34852  Maribyrnong City Council  -37.81053   144.88467   Western Metropolitan   \n",
       "34853  Maribyrnong City Council  -37.81551   144.88826   Western Metropolitan   \n",
       "34854  Maribyrnong City Council  -37.82286   144.87856   Western Metropolitan   \n",
       "34855  Maribyrnong City Council        NaN         NaN   Western Metropolitan   \n",
       "34856  Maribyrnong City Council  -37.81810   144.89351   Western Metropolitan   \n",
       "\n",
       "       Propertycount  \n",
       "0             4019.0  \n",
       "1             4019.0  \n",
       "2             4019.0  \n",
       "3             4019.0  \n",
       "4             4019.0  \n",
       "...              ...  \n",
       "34852         6543.0  \n",
       "34853         6543.0  \n",
       "34854         6543.0  \n",
       "34855         6543.0  \n",
       "34856         6543.0  \n",
       "\n",
       "[34857 rows x 18 columns]>"
      ]
     },
     "execution_count": 6,
     "metadata": {},
     "output_type": "execute_result"
    }
   ],
   "source": [
    "dataset.info"
   ]
  },
  {
   "cell_type": "code",
   "execution_count": 7,
   "id": "auburn-behavior",
   "metadata": {},
   "outputs": [
    {
     "data": {
      "text/plain": [
       "Suburb            object\n",
       "Address           object\n",
       "Rooms              int64\n",
       "Type              object\n",
       "Price            float64\n",
       "Date              object\n",
       "Distance         float64\n",
       "Bedroom2         float64\n",
       "Bathroom         float64\n",
       "Car              float64\n",
       "Landsize         float64\n",
       "BuildingArea     float64\n",
       "YearBuilt        float64\n",
       "CouncilArea       object\n",
       "Lattitude        float64\n",
       "Longtitude       float64\n",
       "Regionname        object\n",
       "Propertycount    float64\n",
       "dtype: object"
      ]
     },
     "execution_count": 7,
     "metadata": {},
     "output_type": "execute_result"
    }
   ],
   "source": [
    "dataset.dtypes"
   ]
  },
  {
   "cell_type": "code",
   "execution_count": 8,
   "id": "moral-champagne",
   "metadata": {},
   "outputs": [
    {
     "data": {
      "text/plain": [
       "Suburb               0\n",
       "Address              0\n",
       "Rooms                0\n",
       "Type                 0\n",
       "Price             7610\n",
       "Date                 0\n",
       "Distance             1\n",
       "Bedroom2          8217\n",
       "Bathroom          8226\n",
       "Car               8728\n",
       "Landsize         11810\n",
       "BuildingArea     21115\n",
       "YearBuilt        19306\n",
       "CouncilArea          3\n",
       "Lattitude         7976\n",
       "Longtitude        7976\n",
       "Regionname           3\n",
       "Propertycount        3\n",
       "dtype: int64"
      ]
     },
     "execution_count": 8,
     "metadata": {},
     "output_type": "execute_result"
    }
   ],
   "source": [
    "dataset.isnull().sum()"
   ]
  },
  {
   "cell_type": "code",
   "execution_count": 9,
   "id": "mental-focus",
   "metadata": {},
   "outputs": [],
   "source": [
    "from sklearn.impute import SimpleImputer"
   ]
  },
  {
   "cell_type": "code",
   "execution_count": 10,
   "id": "charitable-screw",
   "metadata": {},
   "outputs": [
    {
     "data": {
      "text/plain": [
       "Suburb            0.000000\n",
       "Address           0.000000\n",
       "Rooms             0.000000\n",
       "Type              0.000000\n",
       "Price            21.832057\n",
       "Date              0.000000\n",
       "Distance          0.002869\n",
       "Bedroom2         23.573457\n",
       "Bathroom         23.599277\n",
       "Car              25.039447\n",
       "Landsize         33.881286\n",
       "BuildingArea     60.576068\n",
       "YearBuilt        55.386293\n",
       "CouncilArea       0.008607\n",
       "Lattitude        22.882061\n",
       "Longtitude       22.882061\n",
       "Regionname        0.008607\n",
       "Propertycount     0.008607\n",
       "dtype: float64"
      ]
     },
     "execution_count": 10,
     "metadata": {},
     "output_type": "execute_result"
    }
   ],
   "source": [
    "dataset.isnull().sum()/len(dataset)*100"
   ]
  },
  {
   "cell_type": "code",
   "execution_count": 14,
   "id": "quiet-travel",
   "metadata": {},
   "outputs": [],
   "source": [
    "imputer = SimpleImputer(strategy='most_frequent')"
   ]
  },
  {
   "cell_type": "code",
   "execution_count": 15,
   "id": "figured-baltimore",
   "metadata": {},
   "outputs": [],
   "source": [
    "imputed_data = pd.DataFrame(imputer.fit_transform(dataset))"
   ]
  },
  {
   "cell_type": "code",
   "execution_count": 16,
   "id": "social-pipeline",
   "metadata": {},
   "outputs": [],
   "source": [
    "imputed_data.columns = dataset.columns"
   ]
  },
  {
   "cell_type": "code",
   "execution_count": 17,
   "id": "billion-final",
   "metadata": {},
   "outputs": [
    {
     "data": {
      "text/plain": [
       "Suburb           0\n",
       "Address          0\n",
       "Rooms            0\n",
       "Type             0\n",
       "Price            0\n",
       "Date             0\n",
       "Distance         0\n",
       "Bedroom2         0\n",
       "Bathroom         0\n",
       "Car              0\n",
       "Landsize         0\n",
       "BuildingArea     0\n",
       "YearBuilt        0\n",
       "CouncilArea      0\n",
       "Lattitude        0\n",
       "Longtitude       0\n",
       "Regionname       0\n",
       "Propertycount    0\n",
       "dtype: int64"
      ]
     },
     "execution_count": 17,
     "metadata": {},
     "output_type": "execute_result"
    }
   ],
   "source": [
    "imputed_data.isnull().sum()"
   ]
  },
  {
   "cell_type": "code",
   "execution_count": 18,
   "id": "occupational-hungary",
   "metadata": {},
   "outputs": [
    {
     "name": "stdout",
     "output_type": "stream",
     "text": [
      "<class 'pandas.core.frame.DataFrame'>\n",
      "RangeIndex: 34857 entries, 0 to 34856\n",
      "Data columns (total 18 columns):\n",
      " #   Column         Non-Null Count  Dtype \n",
      "---  ------         --------------  ----- \n",
      " 0   Suburb         34857 non-null  object\n",
      " 1   Address        34857 non-null  object\n",
      " 2   Rooms          34857 non-null  object\n",
      " 3   Type           34857 non-null  object\n",
      " 4   Price          34857 non-null  object\n",
      " 5   Date           34857 non-null  object\n",
      " 6   Distance       34857 non-null  object\n",
      " 7   Bedroom2       34857 non-null  object\n",
      " 8   Bathroom       34857 non-null  object\n",
      " 9   Car            34857 non-null  object\n",
      " 10  Landsize       34857 non-null  object\n",
      " 11  BuildingArea   34857 non-null  object\n",
      " 12  YearBuilt      34857 non-null  object\n",
      " 13  CouncilArea    34857 non-null  object\n",
      " 14  Lattitude      34857 non-null  object\n",
      " 15  Longtitude     34857 non-null  object\n",
      " 16  Regionname     34857 non-null  object\n",
      " 17  Propertycount  34857 non-null  object\n",
      "dtypes: object(18)\n",
      "memory usage: 4.8+ MB\n"
     ]
    }
   ],
   "source": [
    "imputed_data.info()"
   ]
  },
  {
   "cell_type": "code",
   "execution_count": 19,
   "id": "exotic-party",
   "metadata": {},
   "outputs": [],
   "source": [
    "pd.set_option('max_columns', None)"
   ]
  },
  {
   "cell_type": "code",
   "execution_count": 20,
   "id": "attractive-trail",
   "metadata": {},
   "outputs": [
    {
     "data": {
      "text/html": [
       "<div>\n",
       "<style scoped>\n",
       "    .dataframe tbody tr th:only-of-type {\n",
       "        vertical-align: middle;\n",
       "    }\n",
       "\n",
       "    .dataframe tbody tr th {\n",
       "        vertical-align: top;\n",
       "    }\n",
       "\n",
       "    .dataframe thead th {\n",
       "        text-align: right;\n",
       "    }\n",
       "</style>\n",
       "<table border=\"1\" class=\"dataframe\">\n",
       "  <thead>\n",
       "    <tr style=\"text-align: right;\">\n",
       "      <th></th>\n",
       "      <th>Suburb</th>\n",
       "      <th>Address</th>\n",
       "      <th>Rooms</th>\n",
       "      <th>Type</th>\n",
       "      <th>Price</th>\n",
       "      <th>Date</th>\n",
       "      <th>Distance</th>\n",
       "      <th>Bedroom2</th>\n",
       "      <th>Bathroom</th>\n",
       "      <th>Car</th>\n",
       "      <th>Landsize</th>\n",
       "      <th>BuildingArea</th>\n",
       "      <th>YearBuilt</th>\n",
       "      <th>CouncilArea</th>\n",
       "      <th>Lattitude</th>\n",
       "      <th>Longtitude</th>\n",
       "      <th>Regionname</th>\n",
       "      <th>Propertycount</th>\n",
       "    </tr>\n",
       "  </thead>\n",
       "  <tbody>\n",
       "    <tr>\n",
       "      <th>0</th>\n",
       "      <td>Abbotsford</td>\n",
       "      <td>68 Studley St</td>\n",
       "      <td>2</td>\n",
       "      <td>h</td>\n",
       "      <td>600000.0</td>\n",
       "      <td>3/09/2016</td>\n",
       "      <td>2.5</td>\n",
       "      <td>2.0</td>\n",
       "      <td>1.0</td>\n",
       "      <td>1.0</td>\n",
       "      <td>126.0</td>\n",
       "      <td>120.0</td>\n",
       "      <td>1970.0</td>\n",
       "      <td>Yarra City Council</td>\n",
       "      <td>-37.8014</td>\n",
       "      <td>144.9958</td>\n",
       "      <td>Northern Metropolitan</td>\n",
       "      <td>4019.0</td>\n",
       "    </tr>\n",
       "    <tr>\n",
       "      <th>1</th>\n",
       "      <td>Abbotsford</td>\n",
       "      <td>85 Turner St</td>\n",
       "      <td>2</td>\n",
       "      <td>h</td>\n",
       "      <td>1480000.0</td>\n",
       "      <td>3/12/2016</td>\n",
       "      <td>2.5</td>\n",
       "      <td>2.0</td>\n",
       "      <td>1.0</td>\n",
       "      <td>1.0</td>\n",
       "      <td>202.0</td>\n",
       "      <td>120.0</td>\n",
       "      <td>1970.0</td>\n",
       "      <td>Yarra City Council</td>\n",
       "      <td>-37.7996</td>\n",
       "      <td>144.9984</td>\n",
       "      <td>Northern Metropolitan</td>\n",
       "      <td>4019.0</td>\n",
       "    </tr>\n",
       "    <tr>\n",
       "      <th>2</th>\n",
       "      <td>Abbotsford</td>\n",
       "      <td>25 Bloomburg St</td>\n",
       "      <td>2</td>\n",
       "      <td>h</td>\n",
       "      <td>1035000.0</td>\n",
       "      <td>4/02/2016</td>\n",
       "      <td>2.5</td>\n",
       "      <td>2.0</td>\n",
       "      <td>1.0</td>\n",
       "      <td>0.0</td>\n",
       "      <td>156.0</td>\n",
       "      <td>79.0</td>\n",
       "      <td>1900.0</td>\n",
       "      <td>Yarra City Council</td>\n",
       "      <td>-37.8079</td>\n",
       "      <td>144.9934</td>\n",
       "      <td>Northern Metropolitan</td>\n",
       "      <td>4019.0</td>\n",
       "    </tr>\n",
       "    <tr>\n",
       "      <th>3</th>\n",
       "      <td>Abbotsford</td>\n",
       "      <td>18/659 Victoria St</td>\n",
       "      <td>3</td>\n",
       "      <td>u</td>\n",
       "      <td>600000.0</td>\n",
       "      <td>4/02/2016</td>\n",
       "      <td>2.5</td>\n",
       "      <td>3.0</td>\n",
       "      <td>2.0</td>\n",
       "      <td>1.0</td>\n",
       "      <td>0.0</td>\n",
       "      <td>120.0</td>\n",
       "      <td>1970.0</td>\n",
       "      <td>Yarra City Council</td>\n",
       "      <td>-37.8114</td>\n",
       "      <td>145.0116</td>\n",
       "      <td>Northern Metropolitan</td>\n",
       "      <td>4019.0</td>\n",
       "    </tr>\n",
       "    <tr>\n",
       "      <th>4</th>\n",
       "      <td>Abbotsford</td>\n",
       "      <td>5 Charles St</td>\n",
       "      <td>3</td>\n",
       "      <td>h</td>\n",
       "      <td>1465000.0</td>\n",
       "      <td>4/03/2017</td>\n",
       "      <td>2.5</td>\n",
       "      <td>3.0</td>\n",
       "      <td>2.0</td>\n",
       "      <td>0.0</td>\n",
       "      <td>134.0</td>\n",
       "      <td>150.0</td>\n",
       "      <td>1900.0</td>\n",
       "      <td>Yarra City Council</td>\n",
       "      <td>-37.8093</td>\n",
       "      <td>144.9944</td>\n",
       "      <td>Northern Metropolitan</td>\n",
       "      <td>4019.0</td>\n",
       "    </tr>\n",
       "  </tbody>\n",
       "</table>\n",
       "</div>"
      ],
      "text/plain": [
       "       Suburb             Address Rooms Type      Price       Date Distance  \\\n",
       "0  Abbotsford       68 Studley St     2    h   600000.0  3/09/2016      2.5   \n",
       "1  Abbotsford        85 Turner St     2    h  1480000.0  3/12/2016      2.5   \n",
       "2  Abbotsford     25 Bloomburg St     2    h  1035000.0  4/02/2016      2.5   \n",
       "3  Abbotsford  18/659 Victoria St     3    u   600000.0  4/02/2016      2.5   \n",
       "4  Abbotsford        5 Charles St     3    h  1465000.0  4/03/2017      2.5   \n",
       "\n",
       "  Bedroom2 Bathroom  Car Landsize BuildingArea YearBuilt         CouncilArea  \\\n",
       "0      2.0      1.0  1.0    126.0        120.0    1970.0  Yarra City Council   \n",
       "1      2.0      1.0  1.0    202.0        120.0    1970.0  Yarra City Council   \n",
       "2      2.0      1.0  0.0    156.0         79.0    1900.0  Yarra City Council   \n",
       "3      3.0      2.0  1.0      0.0        120.0    1970.0  Yarra City Council   \n",
       "4      3.0      2.0  0.0    134.0        150.0    1900.0  Yarra City Council   \n",
       "\n",
       "  Lattitude Longtitude             Regionname Propertycount  \n",
       "0  -37.8014   144.9958  Northern Metropolitan        4019.0  \n",
       "1  -37.7996   144.9984  Northern Metropolitan        4019.0  \n",
       "2  -37.8079   144.9934  Northern Metropolitan        4019.0  \n",
       "3  -37.8114   145.0116  Northern Metropolitan        4019.0  \n",
       "4  -37.8093   144.9944  Northern Metropolitan        4019.0  "
      ]
     },
     "execution_count": 20,
     "metadata": {},
     "output_type": "execute_result"
    }
   ],
   "source": [
    "imputed_data.head()"
   ]
  },
  {
   "cell_type": "code",
   "execution_count": 23,
   "id": "meaning-implementation",
   "metadata": {},
   "outputs": [],
   "source": [
    "imputed_data.to_csv(r'data-processed-1.csv', index = False)"
   ]
  },
  {
   "cell_type": "code",
   "execution_count": 24,
   "id": "overhead-kruger",
   "metadata": {},
   "outputs": [
    {
     "data": {
      "text/plain": [
       "Suburb           object\n",
       "Address          object\n",
       "Rooms            object\n",
       "Type             object\n",
       "Price            object\n",
       "Date             object\n",
       "Distance         object\n",
       "Bedroom2         object\n",
       "Bathroom         object\n",
       "Car              object\n",
       "Landsize         object\n",
       "BuildingArea     object\n",
       "YearBuilt        object\n",
       "CouncilArea      object\n",
       "Lattitude        object\n",
       "Longtitude       object\n",
       "Regionname       object\n",
       "Propertycount    object\n",
       "dtype: object"
      ]
     },
     "execution_count": 24,
     "metadata": {},
     "output_type": "execute_result"
    }
   ],
   "source": [
    "imputed_data.dtypes"
   ]
  },
  {
   "cell_type": "code",
   "execution_count": null,
   "id": "built-compact",
   "metadata": {},
   "outputs": [],
   "source": [
    "# Converting the dtypes of columns into right dtypes\n",
    "#Converting into Categorical dtypes\n",
    "#cat_col = ['Suburb', 'Address', 'Type', 'Method', 'SellerG', 'CouncilArea','Regionname']\n",
    "#for colname in cat_col:\n",
    "#    imputed_Data[colname] = imputed_Data[colname].astype('object') \n",
    "\n",
    "#Converting into Numerical dtypes\n",
    "#int_col = ['Rooms', 'Price', 'Postcode', 'Bedroom2', 'Bathroom', 'Car', 'Landsize', 'BuildingArea',\n",
    "#           'YearBuilt', 'Propertycount']\n",
    "#flt_col = ['Distance', 'Lattitude', 'Longtitude']\n",
    "#for colname in int_col:\n",
    "#    imputed_Data[colname] = imputed_Data[colname].astype('int64')\n",
    "#for colname in flt_col:\n",
    "#    imputed_Data[colname] = imputed_Data[colname].astype('float64')   \n",
    "\n",
    "# Converting to date object\n",
    "#imputed_Data['Date'] = pd.to_datetime(imputed_Data['Date'])"
   ]
  }
 ],
 "metadata": {
  "kernelspec": {
   "display_name": "Python 3",
   "language": "python",
   "name": "python3"
  },
  "language_info": {
   "codemirror_mode": {
    "name": "ipython",
    "version": 3
   },
   "file_extension": ".py",
   "mimetype": "text/x-python",
   "name": "python",
   "nbconvert_exporter": "python",
   "pygments_lexer": "ipython3",
   "version": "3.9.1"
  }
 },
 "nbformat": 4,
 "nbformat_minor": 5
}
