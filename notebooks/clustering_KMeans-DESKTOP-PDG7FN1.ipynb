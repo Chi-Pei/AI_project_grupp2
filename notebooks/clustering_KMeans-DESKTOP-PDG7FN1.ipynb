{
 "cells": [
  {
   "cell_type": "code",
   "execution_count": 80,
   "id": "beneficial-hotel",
   "metadata": {},
   "outputs": [],
   "source": [
    "import pandas as pd\n",
    "import numpy as np\n",
    "import matplotlib.pyplot as plt\n",
    "from sklearn.cluster import KMeans\n",
    "import seaborn as sns; sns.set()\n",
    "import csv"
   ]
  },
  {
   "cell_type": "code",
   "execution_count": 81,
   "id": "sticky-friend",
   "metadata": {
    "scrolled": true
   },
   "outputs": [
    {
     "data": {
      "text/html": [
       "<div>\n",
       "<style scoped>\n",
       "    .dataframe tbody tr th:only-of-type {\n",
       "        vertical-align: middle;\n",
       "    }\n",
       "\n",
       "    .dataframe tbody tr th {\n",
       "        vertical-align: top;\n",
       "    }\n",
       "\n",
       "    .dataframe thead th {\n",
       "        text-align: right;\n",
       "    }\n",
       "</style>\n",
       "<table border=\"1\" class=\"dataframe\">\n",
       "  <thead>\n",
       "    <tr style=\"text-align: right;\">\n",
       "      <th></th>\n",
       "      <th>TypeH</th>\n",
       "      <th>TypeT</th>\n",
       "      <th>TypeU</th>\n",
       "      <th>Rooms</th>\n",
       "      <th>Price</th>\n",
       "      <th>Distance</th>\n",
       "      <th>Bathroom</th>\n",
       "      <th>Car</th>\n",
       "      <th>Landsize</th>\n",
       "      <th>BuildingArea</th>\n",
       "      <th>YearBuilt</th>\n",
       "      <th>Lattitude</th>\n",
       "      <th>Longitude</th>\n",
       "      <th>Propertycount</th>\n",
       "      <th>PriceRange</th>\n",
       "    </tr>\n",
       "  </thead>\n",
       "  <tbody>\n",
       "    <tr>\n",
       "      <th>0</th>\n",
       "      <td>1.0</td>\n",
       "      <td>0.0</td>\n",
       "      <td>0.0</td>\n",
       "      <td>2.0</td>\n",
       "      <td>1480000.0</td>\n",
       "      <td>2.5</td>\n",
       "      <td>1.0</td>\n",
       "      <td>1.0</td>\n",
       "      <td>202.0</td>\n",
       "      <td>156.834586</td>\n",
       "      <td>1966.609153</td>\n",
       "      <td>-37.7996</td>\n",
       "      <td>144.9984</td>\n",
       "      <td>4019.0</td>\n",
       "      <td>1M - 3M</td>\n",
       "    </tr>\n",
       "    <tr>\n",
       "      <th>1</th>\n",
       "      <td>1.0</td>\n",
       "      <td>0.0</td>\n",
       "      <td>0.0</td>\n",
       "      <td>2.0</td>\n",
       "      <td>1035000.0</td>\n",
       "      <td>2.5</td>\n",
       "      <td>1.0</td>\n",
       "      <td>0.0</td>\n",
       "      <td>156.0</td>\n",
       "      <td>79.000000</td>\n",
       "      <td>1900.000000</td>\n",
       "      <td>-37.8079</td>\n",
       "      <td>144.9934</td>\n",
       "      <td>4019.0</td>\n",
       "      <td>1M - 3M</td>\n",
       "    </tr>\n",
       "    <tr>\n",
       "      <th>2</th>\n",
       "      <td>1.0</td>\n",
       "      <td>0.0</td>\n",
       "      <td>0.0</td>\n",
       "      <td>3.0</td>\n",
       "      <td>1465000.0</td>\n",
       "      <td>2.5</td>\n",
       "      <td>2.0</td>\n",
       "      <td>0.0</td>\n",
       "      <td>134.0</td>\n",
       "      <td>150.000000</td>\n",
       "      <td>1900.000000</td>\n",
       "      <td>-37.8093</td>\n",
       "      <td>144.9944</td>\n",
       "      <td>4019.0</td>\n",
       "      <td>1M - 3M</td>\n",
       "    </tr>\n",
       "    <tr>\n",
       "      <th>3</th>\n",
       "      <td>1.0</td>\n",
       "      <td>0.0</td>\n",
       "      <td>0.0</td>\n",
       "      <td>3.0</td>\n",
       "      <td>850000.0</td>\n",
       "      <td>2.5</td>\n",
       "      <td>2.0</td>\n",
       "      <td>1.0</td>\n",
       "      <td>94.0</td>\n",
       "      <td>156.834586</td>\n",
       "      <td>1966.609153</td>\n",
       "      <td>-37.7969</td>\n",
       "      <td>144.9969</td>\n",
       "      <td>4019.0</td>\n",
       "      <td>100,001 - 1M</td>\n",
       "    </tr>\n",
       "    <tr>\n",
       "      <th>4</th>\n",
       "      <td>1.0</td>\n",
       "      <td>0.0</td>\n",
       "      <td>0.0</td>\n",
       "      <td>4.0</td>\n",
       "      <td>1600000.0</td>\n",
       "      <td>2.5</td>\n",
       "      <td>1.0</td>\n",
       "      <td>2.0</td>\n",
       "      <td>120.0</td>\n",
       "      <td>142.000000</td>\n",
       "      <td>2014.000000</td>\n",
       "      <td>-37.8072</td>\n",
       "      <td>144.9941</td>\n",
       "      <td>4019.0</td>\n",
       "      <td>1M - 3M</td>\n",
       "    </tr>\n",
       "  </tbody>\n",
       "</table>\n",
       "</div>"
      ],
      "text/plain": [
       "   TypeH  TypeT  TypeU  Rooms      Price  Distance  Bathroom  Car  Landsize  \\\n",
       "0    1.0    0.0    0.0    2.0  1480000.0       2.5       1.0  1.0     202.0   \n",
       "1    1.0    0.0    0.0    2.0  1035000.0       2.5       1.0  0.0     156.0   \n",
       "2    1.0    0.0    0.0    3.0  1465000.0       2.5       2.0  0.0     134.0   \n",
       "3    1.0    0.0    0.0    3.0   850000.0       2.5       2.0  1.0      94.0   \n",
       "4    1.0    0.0    0.0    4.0  1600000.0       2.5       1.0  2.0     120.0   \n",
       "\n",
       "   BuildingArea    YearBuilt  Lattitude  Longitude  Propertycount  \\\n",
       "0    156.834586  1966.609153   -37.7996   144.9984         4019.0   \n",
       "1     79.000000  1900.000000   -37.8079   144.9934         4019.0   \n",
       "2    150.000000  1900.000000   -37.8093   144.9944         4019.0   \n",
       "3    156.834586  1966.609153   -37.7969   144.9969         4019.0   \n",
       "4    142.000000  2014.000000   -37.8072   144.9941         4019.0   \n",
       "\n",
       "     PriceRange  \n",
       "0       1M - 3M  \n",
       "1       1M - 3M  \n",
       "2       1M - 3M  \n",
       "3  100,001 - 1M  \n",
       "4       1M - 3M  "
      ]
     },
     "execution_count": 81,
     "metadata": {},
     "output_type": "execute_result"
    }
   ],
   "source": [
    "df = pd.read_csv('full_dataset_outliers.csv')\n",
    "columns=[\"TypeH\",\"TypeT\",\"TypeU\",\"Rooms\",\"Price\",\"Date\",\"Distance\",\"Bathroom\",\"Car\",\"Landsize\",\"BuildingArea\",\"YearBuilt\",\"Lattitude\",\"Longitude\",\"Propertycount\"]\n",
    "coords = df[['Lattitude', 'Longitude']].values\n",
    "#df[df.columns[12:14]]\n",
    "df.head()"
   ]
  },
  {
   "cell_type": "code",
   "execution_count": 82,
   "id": "controversial-magazine",
   "metadata": {},
   "outputs": [
    {
     "data": {
      "text/plain": [
       "(27210, 15)"
      ]
     },
     "execution_count": 82,
     "metadata": {},
     "output_type": "execute_result"
    }
   ],
   "source": [
    "df.shape"
   ]
  },
  {
   "cell_type": "code",
   "execution_count": 83,
   "id": "bigger-capacity",
   "metadata": {},
   "outputs": [],
   "source": [
    "X = df.iloc[:,[12,13,4]].values\n",
    "X_weighted =df.loc[:,['Lattitude','Longitude','Price']]"
   ]
  },
  {
   "cell_type": "code",
   "execution_count": 84,
   "id": "intellectual-printing",
   "metadata": {},
   "outputs": [
    {
     "data": {
      "text/plain": [
       "<matplotlib.collections.PathCollection at 0x1ef4065c5b0>"
      ]
     },
     "execution_count": 84,
     "metadata": {},
     "output_type": "execute_result"
    },
    {
     "data": {
      "image/png": "[encoded data removed]",
      "text/plain": [
       "<Figure size 432x288 with 1 Axes>"
      ]
     },
     "metadata": {},
     "output_type": "display_data"
    }
   ],
   "source": [
    "plt.scatter(X[:,0],X[:,1], s=20, c=\"grey\")"
   ]
  },
  {
   "cell_type": "code",
   "execution_count": 85,
   "id": "likely-conviction",
   "metadata": {},
   "outputs": [],
   "source": [
    "wcss = []\n",
    "for i in range(1,11):\n",
    "    kmeans = KMeans(n_clusters = i, init = 'k-means++', random_state=0)\n",
    "    kmeans.fit(X)\n",
    "    wcss.append(kmeans.inertia_)"
   ]
  },
  {
   "cell_type": "code",
   "execution_count": 86,
   "id": "italic-attraction",
   "metadata": {},
   "outputs": [
    {
     "data": {
      "text/plain": [
       "[<matplotlib.lines.Line2D at 0x1ef406af520>]"
      ]
     },
     "execution_count": 86,
     "metadata": {},
     "output_type": "execute_result"
    },
    {
     "data": {
      "image/png": "[encoded data removed]",
      "text/plain": [
       "<Figure size 432x288 with 1 Axes>"
      ]
     },
     "metadata": {},
     "output_type": "display_data"
    }
   ],
   "source": [
    "plt.plot(range(1,11),wcss)"
   ]
  },
  {
   "cell_type": "code",
   "execution_count": 87,
   "id": "rotary-newport",
   "metadata": {},
   "outputs": [],
   "source": [
    "kmeans = KMeans(n_clusters=15, random_state=0)"
   ]
  },
  {
   "cell_type": "code",
   "execution_count": 88,
   "id": "neural-excuse",
   "metadata": {},
   "outputs": [],
   "source": [
    "y_kmeans = kmeans.fit_predict(X)"
   ]
  },
  {
   "cell_type": "code",
   "execution_count": 89,
   "id": "addressed-package",
   "metadata": {},
   "outputs": [
    {
     "data": {
      "text/plain": [
       "array([[1.44996900e+02, 4.01900000e+03, 8.50000000e+05],\n",
       "       [1.45000400e+02, 4.01900000e+03, 8.90000000e+05],\n",
       "       [1.44995900e+02, 4.01900000e+03, 9.00000000e+05],\n",
       "       ...,\n",
       "       [1.45003915e+02, 1.48870000e+04, 8.00000000e+05],\n",
       "       [1.44992774e+02, 1.48870000e+04, 8.25500000e+05],\n",
       "       [1.44906256e+02, 3.28400000e+03, 8.95000000e+05]])"
      ]
     },
     "execution_count": 89,
     "metadata": {},
     "output_type": "execute_result"
    }
   ],
   "source": [
    "#coordinates for cluster 1\n",
    "X[y_kmeans == 0]"
   ]
  },
  {
   "cell_type": "code",
   "execution_count": 90,
   "id": "demonstrated-badge",
   "metadata": {},
   "outputs": [
    {
     "data": {
      "text/plain": [
       "<matplotlib.legend.Legend at 0x1ef40703370>"
      ]
     },
     "execution_count": 90,
     "metadata": {},
     "output_type": "execute_result"
    },
    {
     "data": {
      "image/png": "[encoded data removed]",
      "text/plain": [
       "<Figure size 432x288 with 1 Axes>"
      ]
     },
     "metadata": {},
     "output_type": "display_data"
    }
   ],
   "source": [
    "plt.scatter(X[y_kmeans == 0,0],X[y_kmeans == 0,1], s = 10, c = 'red', label = 'Cluster 1')\n",
    "plt.scatter(X[y_kmeans == 1,0],X[y_kmeans == 1,1], s = 10, c = 'blue', label = 'Cluster 2')\n",
    "plt.scatter(X[y_kmeans == 2,0],X[y_kmeans == 2,1], s = 10, c = 'green', label = 'Cluster 3')\n",
    "plt.scatter(X[y_kmeans == 3,0],X[y_kmeans == 3,1], s = 10, c = 'cyan', label = 'Cluster 4') \n",
    "plt.scatter(X[y_kmeans == 4,0],X[y_kmeans == 4,1], s = 10, c = 'magenta', label = 'Cluster 4') \n",
    "plt.scatter(kmeans.cluster_centers_[:,0], kmeans.cluster_centers_[:,1], s = 50, c = 'black')\n",
    "plt.legend()"
   ]
  },
  {
   "cell_type": "code",
   "execution_count": 91,
   "id": "sexual-reception",
   "metadata": {},
   "outputs": [
    {
     "data": {
      "text/html": [
       "<div>\n",
       "<style scoped>\n",
       "    .dataframe tbody tr th:only-of-type {\n",
       "        vertical-align: middle;\n",
       "    }\n",
       "\n",
       "    .dataframe tbody tr th {\n",
       "        vertical-align: top;\n",
       "    }\n",
       "\n",
       "    .dataframe thead th {\n",
       "        text-align: right;\n",
       "    }\n",
       "</style>\n",
       "<table border=\"1\" class=\"dataframe\">\n",
       "  <thead>\n",
       "    <tr style=\"text-align: right;\">\n",
       "      <th></th>\n",
       "      <th>Lattitude</th>\n",
       "      <th>Longitude</th>\n",
       "    </tr>\n",
       "  </thead>\n",
       "  <tbody>\n",
       "    <tr>\n",
       "      <th>0</th>\n",
       "      <td>-37.799600</td>\n",
       "      <td>144.998400</td>\n",
       "    </tr>\n",
       "    <tr>\n",
       "      <th>1</th>\n",
       "      <td>-37.807900</td>\n",
       "      <td>144.993400</td>\n",
       "    </tr>\n",
       "    <tr>\n",
       "      <th>2</th>\n",
       "      <td>-37.809300</td>\n",
       "      <td>144.994400</td>\n",
       "    </tr>\n",
       "    <tr>\n",
       "      <th>3</th>\n",
       "      <td>-37.796900</td>\n",
       "      <td>144.996900</td>\n",
       "    </tr>\n",
       "    <tr>\n",
       "      <th>4</th>\n",
       "      <td>-37.807200</td>\n",
       "      <td>144.994100</td>\n",
       "    </tr>\n",
       "    <tr>\n",
       "      <th>...</th>\n",
       "      <td>...</td>\n",
       "      <td>...</td>\n",
       "    </tr>\n",
       "    <tr>\n",
       "      <th>27205</th>\n",
       "      <td>-37.859910</td>\n",
       "      <td>144.894677</td>\n",
       "    </tr>\n",
       "    <tr>\n",
       "      <th>27206</th>\n",
       "      <td>-37.856889</td>\n",
       "      <td>144.890787</td>\n",
       "    </tr>\n",
       "    <tr>\n",
       "      <th>27207</th>\n",
       "      <td>-37.863939</td>\n",
       "      <td>144.904848</td>\n",
       "    </tr>\n",
       "    <tr>\n",
       "      <th>27208</th>\n",
       "      <td>-37.856823</td>\n",
       "      <td>144.999133</td>\n",
       "    </tr>\n",
       "    <tr>\n",
       "      <th>27209</th>\n",
       "      <td>-37.812415</td>\n",
       "      <td>144.896190</td>\n",
       "    </tr>\n",
       "  </tbody>\n",
       "</table>\n",
       "<p>27210 rows × 2 columns</p>\n",
       "</div>"
      ],
      "text/plain": [
       "       Lattitude   Longitude\n",
       "0     -37.799600  144.998400\n",
       "1     -37.807900  144.993400\n",
       "2     -37.809300  144.994400\n",
       "3     -37.796900  144.996900\n",
       "4     -37.807200  144.994100\n",
       "...          ...         ...\n",
       "27205 -37.859910  144.894677\n",
       "27206 -37.856889  144.890787\n",
       "27207 -37.863939  144.904848\n",
       "27208 -37.856823  144.999133\n",
       "27209 -37.812415  144.896190\n",
       "\n",
       "[27210 rows x 2 columns]"
      ]
     },
     "execution_count": 91,
     "metadata": {},
     "output_type": "execute_result"
    }
   ],
   "source": [
    "X_weighted[X_weighted.columns[0:2]]"
   ]
  },
  {
   "cell_type": "code",
   "execution_count": 92,
   "id": "sustainable-dodge",
   "metadata": {},
   "outputs": [
    {
     "data": {
      "text/plain": [
       "0        1480000.0\n",
       "1        1035000.0\n",
       "2        1465000.0\n",
       "3         850000.0\n",
       "4        1600000.0\n",
       "           ...    \n",
       "27205     450000.0\n",
       "27206     475000.0\n",
       "27207     520000.0\n",
       "27208     440000.0\n",
       "27209    1140000.0\n",
       "Name: Price, Length: 27210, dtype: float64"
      ]
     },
     "execution_count": 92,
     "metadata": {},
     "output_type": "execute_result"
    }
   ],
   "source": [
    "X_weighted[X_weighted.columns[2]]"
   ]
  },
  {
   "cell_type": "code",
   "execution_count": 93,
   "id": "established-deficit",
   "metadata": {
    "scrolled": true
   },
   "outputs": [
    {
     "data": {
      "text/plain": [
       "<matplotlib.collections.PathCollection at 0x1ef40746dc0>"
      ]
     },
     "execution_count": 93,
     "metadata": {},
     "output_type": "execute_result"
    },
    {
     "data": {
      "image/png": "[encoded data removed]",
      "text/plain": [
       "<Figure size 432x288 with 2 Axes>"
      ]
     },
     "metadata": {},
     "output_type": "display_data"
    }
   ],
   "source": [
    "kmeans = KMeans(n_clusters = 15, max_iter=1000, init ='k-means++')\n",
    "lat_long = X_weighted[X_weighted.columns[0:2]]\n",
    "price = X_weighted[X_weighted.columns[2]]\n",
    "weighted_kmeans_clusters = kmeans.fit(lat_long, sample_weight = price) # Compute k-means clustering.\n",
    "df['cluster_label'] = kmeans.predict(lat_long, sample_weight = price)\n",
    "centers = kmeans.cluster_centers_ # Coordinates of cluster centers.\n",
    "labels = df['cluster_label'] # Labels of each point\n",
    "df.plot.scatter(x = 'Lattitude', y = 'Longitude', c=labels, s=50, cmap='viridis')\n",
    "plt.scatter(centers[:, 0], centers[:, 1], c='black', s=200, alpha=0.5)"
   ]
  },
  {
   "cell_type": "code",
   "execution_count": 94,
   "id": "affecting-malta",
   "metadata": {
    "scrolled": true
   },
   "outputs": [
    {
     "data": {
      "text/plain": [
       "0"
      ]
     },
     "execution_count": 94,
     "metadata": {},
     "output_type": "execute_result"
    }
   ],
   "source": [
    "len(X[y_kmeans == 18])"
   ]
  },
  {
   "cell_type": "code",
   "execution_count": 95,
   "id": "incorrect-patrick",
   "metadata": {},
   "outputs": [
    {
     "data": {
      "text/plain": [
       "array([[1.44994100e+02, 4.01900000e+03, 1.60000000e+06],\n",
       "       [1.44995400e+02, 4.01900000e+03, 1.63600000e+06],\n",
       "       [1.44952000e+02, 3.28000000e+03, 1.80000000e+06],\n",
       "       ...,\n",
       "       [1.45174042e+02, 1.09990000e+04, 1.63000000e+06],\n",
       "       [1.44910172e+02, 3.28400000e+03, 1.67100000e+06],\n",
       "       [1.45157187e+02, 6.20200000e+03, 1.70000000e+06]])"
      ]
     },
     "execution_count": 95,
     "metadata": {},
     "output_type": "execute_result"
    }
   ],
   "source": [
    "X[y_kmeans == 1]"
   ]
  },
  {
   "cell_type": "code",
   "execution_count": 96,
   "id": "elegant-positive",
   "metadata": {},
   "outputs": [
    {
     "data": {
      "text/plain": [
       "array([[-37.83320195, 145.0589605 ],\n",
       "       [-37.76123435, 144.99391829],\n",
       "       [-37.8856006 , 145.13467529],\n",
       "       [-37.88020631, 144.69260686],\n",
       "       [-37.69951449, 145.06747735],\n",
       "       [-37.92593389, 145.03678092],\n",
       "       [-37.74730698, 144.91455824],\n",
       "       [-38.05385544, 145.17346938],\n",
       "       [-37.82789318, 145.25220548],\n",
       "       [-37.60328963, 144.64341044],\n",
       "       [-37.75491051, 144.81182405],\n",
       "       [-37.82491932, 144.87734496],\n",
       "       [-37.79015175, 145.11851461],\n",
       "       [-37.63237711, 144.91918971],\n",
       "       [-37.84110385, 144.98436873]])"
      ]
     },
     "execution_count": 96,
     "metadata": {},
     "output_type": "execute_result"
    }
   ],
   "source": [
    "centers"
   ]
  },
  {
   "cell_type": "code",
   "execution_count": 97,
   "id": "congressional-stone",
   "metadata": {
    "scrolled": true
   },
   "outputs": [
    {
     "name": "stdout",
     "output_type": "stream",
     "text": [
      "[-37.83320195 145.0589605 ]\n",
      "4261\n",
      "[-37.76123435 144.99391829]\n",
      "1470\n",
      "[-37.8856006  145.13467529]\n",
      "262\n",
      "[-37.88020631 144.69260686]\n",
      "3123\n",
      "[-37.69951449 145.06747735]\n",
      "74\n",
      "[-37.92593389 145.03678092]\n",
      "3942\n",
      "[-37.74730698 144.91455824]\n",
      "663\n",
      "[-38.05385544 145.17346938]\n",
      "2820\n",
      "[-37.82789318 145.25220548]\n",
      "36\n",
      "[-37.60328963 144.64341044]\n",
      "4619\n",
      "[-37.75491051 144.81182405]\n",
      "2045\n",
      "[-37.82491932 144.87734496]\n",
      "2283\n",
      "[-37.79015175 145.11851461]\n",
      "154\n",
      "[-37.63237711 144.91918971]\n",
      "1030\n",
      "[-37.84110385 144.98436873]\n",
      "428\n"
     ]
    }
   ],
   "source": [
    "count = 0\n",
    "for i in range(0, len(centers)):\n",
    "    print(centers[i])\n",
    "    print(len(X[y_kmeans == i]))"
   ]
  },
  {
   "cell_type": "code",
   "execution_count": 98,
   "id": "signed-patio",
   "metadata": {},
   "outputs": [
    {
     "data": {
      "text/plain": [
       "(0, 0)"
      ]
     },
     "execution_count": 98,
     "metadata": {},
     "output_type": "execute_result"
    }
   ],
   "source": [
    "cluster_df.shape"
   ]
  },
  {
   "cell_type": "code",
   "execution_count": 62,
   "id": "velvet-superintendent",
   "metadata": {},
   "outputs": [
    {
     "data": {
      "text/plain": [
       "0        9\n",
       "1        9\n",
       "2        9\n",
       "3        9\n",
       "4        9\n",
       "        ..\n",
       "27205    1\n",
       "27206    1\n",
       "27207    1\n",
       "27208    9\n",
       "27209    1\n",
       "Name: cluster_label, Length: 27210, dtype: int32"
      ]
     },
     "execution_count": 62,
     "metadata": {},
     "output_type": "execute_result"
    }
   ],
   "source": [
    "df['cluster_label']"
   ]
  },
  {
   "cell_type": "code",
   "execution_count": 15,
   "id": "arbitrary-point",
   "metadata": {},
   "outputs": [
    {
     "data": {
      "text/html": [
       "<div>\n",
       "<style scoped>\n",
       "    .dataframe tbody tr th:only-of-type {\n",
       "        vertical-align: middle;\n",
       "    }\n",
       "\n",
       "    .dataframe tbody tr th {\n",
       "        vertical-align: top;\n",
       "    }\n",
       "\n",
       "    .dataframe thead th {\n",
       "        text-align: right;\n",
       "    }\n",
       "</style>\n",
       "<table border=\"1\" class=\"dataframe\">\n",
       "  <thead>\n",
       "    <tr style=\"text-align: right;\">\n",
       "      <th></th>\n",
       "      <th>TypeH</th>\n",
       "      <th>TypeT</th>\n",
       "      <th>TypeU</th>\n",
       "      <th>Rooms</th>\n",
       "      <th>Price</th>\n",
       "      <th>Distance</th>\n",
       "      <th>Bathroom</th>\n",
       "      <th>Car</th>\n",
       "      <th>Landsize</th>\n",
       "      <th>BuildingArea</th>\n",
       "      <th>YearBuilt</th>\n",
       "      <th>Lattitude</th>\n",
       "      <th>Longitude</th>\n",
       "      <th>Propertycount</th>\n",
       "      <th>PriceRange</th>\n",
       "      <th>cluster_label</th>\n",
       "    </tr>\n",
       "  </thead>\n",
       "  <tbody>\n",
       "    <tr>\n",
       "      <th>0</th>\n",
       "      <td>1.0</td>\n",
       "      <td>0.0</td>\n",
       "      <td>0.0</td>\n",
       "      <td>2.0</td>\n",
       "      <td>1480000.0</td>\n",
       "      <td>2.5</td>\n",
       "      <td>1.0</td>\n",
       "      <td>1.0</td>\n",
       "      <td>202.0</td>\n",
       "      <td>156.834586</td>\n",
       "      <td>1966.609153</td>\n",
       "      <td>-37.7996</td>\n",
       "      <td>144.9984</td>\n",
       "      <td>4019.0</td>\n",
       "      <td>1M - 3M</td>\n",
       "      <td>8</td>\n",
       "    </tr>\n",
       "    <tr>\n",
       "      <th>1</th>\n",
       "      <td>1.0</td>\n",
       "      <td>0.0</td>\n",
       "      <td>0.0</td>\n",
       "      <td>2.0</td>\n",
       "      <td>1035000.0</td>\n",
       "      <td>2.5</td>\n",
       "      <td>1.0</td>\n",
       "      <td>0.0</td>\n",
       "      <td>156.0</td>\n",
       "      <td>79.000000</td>\n",
       "      <td>1900.000000</td>\n",
       "      <td>-37.8079</td>\n",
       "      <td>144.9934</td>\n",
       "      <td>4019.0</td>\n",
       "      <td>1M - 3M</td>\n",
       "      <td>18</td>\n",
       "    </tr>\n",
       "    <tr>\n",
       "      <th>2</th>\n",
       "      <td>1.0</td>\n",
       "      <td>0.0</td>\n",
       "      <td>0.0</td>\n",
       "      <td>3.0</td>\n",
       "      <td>1465000.0</td>\n",
       "      <td>2.5</td>\n",
       "      <td>2.0</td>\n",
       "      <td>0.0</td>\n",
       "      <td>134.0</td>\n",
       "      <td>150.000000</td>\n",
       "      <td>1900.000000</td>\n",
       "      <td>-37.8093</td>\n",
       "      <td>144.9944</td>\n",
       "      <td>4019.0</td>\n",
       "      <td>1M - 3M</td>\n",
       "      <td>18</td>\n",
       "    </tr>\n",
       "    <tr>\n",
       "      <th>3</th>\n",
       "      <td>1.0</td>\n",
       "      <td>0.0</td>\n",
       "      <td>0.0</td>\n",
       "      <td>3.0</td>\n",
       "      <td>850000.0</td>\n",
       "      <td>2.5</td>\n",
       "      <td>2.0</td>\n",
       "      <td>1.0</td>\n",
       "      <td>94.0</td>\n",
       "      <td>156.834586</td>\n",
       "      <td>1966.609153</td>\n",
       "      <td>-37.7969</td>\n",
       "      <td>144.9969</td>\n",
       "      <td>4019.0</td>\n",
       "      <td>100,001 - 1M</td>\n",
       "      <td>8</td>\n",
       "    </tr>\n",
       "    <tr>\n",
       "      <th>4</th>\n",
       "      <td>1.0</td>\n",
       "      <td>0.0</td>\n",
       "      <td>0.0</td>\n",
       "      <td>4.0</td>\n",
       "      <td>1600000.0</td>\n",
       "      <td>2.5</td>\n",
       "      <td>1.0</td>\n",
       "      <td>2.0</td>\n",
       "      <td>120.0</td>\n",
       "      <td>142.000000</td>\n",
       "      <td>2014.000000</td>\n",
       "      <td>-37.8072</td>\n",
       "      <td>144.9941</td>\n",
       "      <td>4019.0</td>\n",
       "      <td>1M - 3M</td>\n",
       "      <td>18</td>\n",
       "    </tr>\n",
       "  </tbody>\n",
       "</table>\n",
       "</div>"
      ],
      "text/plain": [
       "   TypeH  TypeT  TypeU  Rooms      Price  Distance  Bathroom  Car  Landsize  \\\n",
       "0    1.0    0.0    0.0    2.0  1480000.0       2.5       1.0  1.0     202.0   \n",
       "1    1.0    0.0    0.0    2.0  1035000.0       2.5       1.0  0.0     156.0   \n",
       "2    1.0    0.0    0.0    3.0  1465000.0       2.5       2.0  0.0     134.0   \n",
       "3    1.0    0.0    0.0    3.0   850000.0       2.5       2.0  1.0      94.0   \n",
       "4    1.0    0.0    0.0    4.0  1600000.0       2.5       1.0  2.0     120.0   \n",
       "\n",
       "   BuildingArea    YearBuilt  Lattitude  Longitude  Propertycount  \\\n",
       "0    156.834586  1966.609153   -37.7996   144.9984         4019.0   \n",
       "1     79.000000  1900.000000   -37.8079   144.9934         4019.0   \n",
       "2    150.000000  1900.000000   -37.8093   144.9944         4019.0   \n",
       "3    156.834586  1966.609153   -37.7969   144.9969         4019.0   \n",
       "4    142.000000  2014.000000   -37.8072   144.9941         4019.0   \n",
       "\n",
       "     PriceRange  cluster_label  \n",
       "0       1M - 3M              8  \n",
       "1       1M - 3M             18  \n",
       "2       1M - 3M             18  \n",
       "3  100,001 - 1M              8  \n",
       "4       1M - 3M             18  "
      ]
     },
     "execution_count": 15,
     "metadata": {},
     "output_type": "execute_result"
    }
   ],
   "source": [
    "df.head()"
   ]
  },
  {
   "cell_type": "code",
   "execution_count": 16,
   "id": "forbidden-correspondence",
   "metadata": {},
   "outputs": [],
   "source": [
    "columns=[\"TypeH\",\"TypeT\",\"TypeU\",\"Rooms\",\"Price\",\"Distance\",\"Bathroom\",\"Car\",\"Landsize\",\"BuildingArea\",\"YearBuilt\",\"Lattitude\",\"Longitude\",\"Propertycount\", \"PriceRange\",\"cluster_label\"]\n",
    "\n",
    "df.to_csv('full_dataset_imputed_cluster_20.csv'\n",
    "                          ,index=False,header=True\n",
    "                          ,columns=columns)"
   ]
  },
  {
   "cell_type": "code",
   "execution_count": null,
   "id": "residential-priority",
   "metadata": {},
   "outputs": [],
   "source": []
  },
  {
   "cell_type": "code",
   "execution_count": null,
   "id": "comfortable-election",
   "metadata": {},
   "outputs": [],
   "source": []
  }
 ],
 "metadata": {
  "kernelspec": {
   "display_name": "Python 3",
   "language": "python",
   "name": "python3"
  },
  "language_info": {
   "codemirror_mode": {
    "name": "ipython",
    "version": 3
   },
   "file_extension": ".py",
   "mimetype": "text/x-python",
   "name": "python",
   "nbconvert_exporter": "python",
   "pygments_lexer": "ipython3",
   "version": "3.9.1"
  }
 },
 "nbformat": 4,
 "nbformat_minor": 5
}
