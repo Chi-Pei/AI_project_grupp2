{
 "cells": [
  {
   "cell_type": "code",
   "execution_count": null,
   "id": "comparative-reynolds",
   "metadata": {},
   "outputs": [],
   "source": [
    "import numpy as np\n",
    "import pandas as pd\n",
    "import matplotlib.pyplot as plt\n",
    "#plt.style.use('dark_background')"
   ]
  },
  {
   "cell_type": "code",
   "execution_count": null,
   "id": "indie-structure",
   "metadata": {},
   "outputs": [],
   "source": [
    "dataset = pd.read_csv('full_dataset_OHE.csv', usecols = ['TypeH', 'TypeT', 'TypeU', 'Rooms', 'Price', 'Date', 'Distance', 'Postcode', 'Bathroom', 'Car', 'Landsize', 'BuildingArea', 'YearBuilt', 'Lattitude', 'Longitude', 'Propertycount'])"
   ]
  },
  {
   "cell_type": "code",
   "execution_count": null,
   "id": "molecular-burning",
   "metadata": {},
   "outputs": [],
   "source": [
    "dataset.head()"
   ]
  },
  {
   "cell_type": "code",
   "execution_count": null,
   "id": "through-ecuador",
   "metadata": {},
   "outputs": [],
   "source": [
    "dataset.isnull().sum()"
   ]
  },
  {
   "cell_type": "code",
   "execution_count": null,
   "id": "applied-value",
   "metadata": {},
   "outputs": [],
   "source": [
    "dataset.dtypes"
   ]
  },
  {
   "cell_type": "code",
   "execution_count": null,
   "id": "raising-sustainability",
   "metadata": {},
   "outputs": [],
   "source": [
    "from sklearn.impute import SimpleImputer"
   ]
  },
  {
   "cell_type": "code",
   "execution_count": null,
   "id": "boxed-imperial",
   "metadata": {},
   "outputs": [],
   "source": [
    "dataset['Date'] = pd.to_datetime(dataset['Date'])"
   ]
  },
  {
   "cell_type": "code",
   "execution_count": null,
   "id": "precious-dallas",
   "metadata": {},
   "outputs": [],
   "source": [
    "dataset['Date'] = dataset['Date'].values.astype(float)"
   ]
  },
  {
   "cell_type": "code",
   "execution_count": null,
   "id": "specialized-closer",
   "metadata": {},
   "outputs": [],
   "source": [
    "dataset.dtypes"
   ]
  },
  {
   "cell_type": "code",
   "execution_count": null,
   "id": "commercial-chambers",
   "metadata": {},
   "outputs": [],
   "source": [
    "imputer = SimpleImputer(missing_values=np.nan, strategy='mean')\n",
    "imputed_data = pd.DataFrame(imputer.fit_transform(dataset))\n",
    "imputed_data.columns = dataset.columns\n",
    "#pd.set_option('max_columns', None)"
   ]
  },
  {
   "cell_type": "code",
   "execution_count": null,
   "id": "controlled-drive",
   "metadata": {},
   "outputs": [],
   "source": [
    "imputed_data.head()"
   ]
  },
  {
   "cell_type": "code",
   "execution_count": null,
   "id": "waiting-optics",
   "metadata": {},
   "outputs": [],
   "source": [
    "imputed_data['Date'] = pd.to_datetime(imputed_data['Date'])"
   ]
  },
  {
   "cell_type": "code",
   "execution_count": null,
   "id": "competitive-journey",
   "metadata": {},
   "outputs": [],
   "source": [
    "imputed_data['Date'] = imputed_data['Date'].astype(object)"
   ]
  },
  {
   "cell_type": "code",
   "execution_count": null,
   "id": "level-affiliate",
   "metadata": {},
   "outputs": [],
   "source": []
  },
  {
   "cell_type": "code",
   "execution_count": null,
   "id": "dependent-spyware",
   "metadata": {},
   "outputs": [],
   "source": [
    "imputed_data.dtypes"
   ]
  },
  {
   "cell_type": "code",
   "execution_count": null,
   "id": "representative-christmas",
   "metadata": {},
   "outputs": [],
   "source": [
    "imputed_data.head()"
   ]
  },
  {
   "cell_type": "code",
   "execution_count": null,
   "id": "impressive-validity",
   "metadata": {},
   "outputs": [],
   "source": [
    "imputed_data.to_csv(r'imputed_dataset_.csv', index = False)"
   ]
  },
  {
   "cell_type": "code",
   "execution_count": null,
   "id": "renewable-travel",
   "metadata": {},
   "outputs": [],
   "source": [
    "imputed_data.shape"
   ]
  },
  {
   "cell_type": "code",
   "execution_count": null,
   "id": "returning-fellowship",
   "metadata": {},
   "outputs": [],
   "source": [
    "imputed_data.isnull().sum()"
   ]
  },
  {
   "cell_type": "code",
   "execution_count": null,
   "id": "friendly-survivor",
   "metadata": {},
   "outputs": [],
   "source": []
  }
 ],
 "metadata": {
  "kernelspec": {
   "display_name": "Python 3",
   "language": "python",
   "name": "python3"
  },
  "language_info": {
   "codemirror_mode": {
    "name": "ipython",
    "version": 3
   },
   "file_extension": ".py",
   "mimetype": "text/x-python",
   "name": "python",
   "nbconvert_exporter": "python",
   "pygments_lexer": "ipython3",
   "version": "3.9.1"
  }
 },
 "nbformat": 4,
 "nbformat_minor": 5
}
